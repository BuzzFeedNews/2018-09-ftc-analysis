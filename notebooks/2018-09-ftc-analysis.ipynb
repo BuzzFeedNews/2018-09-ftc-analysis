{
 "cells": [
  {
   "cell_type": "markdown",
   "metadata": {},
   "source": [
    "### Analysis of Federal Trade Commission complaints related to 'immigration services' \n",
    "\n",
    "This notebook runs two analyses of Federal Trade Commission (FTC) data"
   ]
  },
  {
   "cell_type": "code",
   "execution_count": 1,
   "metadata": {},
   "outputs": [],
   "source": [
    "import pandas as pd\n",
    "import spacy\n",
    "import xlrd\n",
    "%matplotlib inline"
   ]
  },
  {
   "cell_type": "markdown",
   "metadata": {},
   "source": [
    "In this section we open up all Excel sheets and isolate the data to the relevant columns"
   ]
  },
  {
   "cell_type": "code",
   "execution_count": 2,
   "metadata": {},
   "outputs": [],
   "source": [
    "ftc_complaints_2006_2015 = pd.read_excel(\n",
    "    '../data/consumer_compls_redacted_2006_2015.xlsx',\n",
    "    sheet_name = 'CIS Complaint'\n",
    ")\n",
    "\n",
    "ftc_complaints_2015_2017 = pd.read_excel('../data/consumer_compls_redacted_2015_2017.xls')\n",
    "\n",
    "ftc_complaints_2018 = pd.read_excel('../data/consumer_compls_redacted_2018.xlsx')"
   ]
  },
  {
   "cell_type": "code",
   "execution_count": 3,
   "metadata": {},
   "outputs": [
    {
     "name": "stdout",
     "output_type": "stream",
     "text": [
      "5232\n",
      "2941\n",
      "368\n"
     ]
    }
   ],
   "source": [
    "print(len(ftc_complaints_2006_2015))\n",
    "print(len(ftc_complaints_2015_2017))\n",
    "print(len(ftc_complaints_2018))"
   ]
  },
  {
   "cell_type": "markdown",
   "metadata": {},
   "source": [
    "The next cell:\n",
    "- concatenates all data sets\n",
    "- renames columns to remove extraneous spaces\n",
    "- parses the `Created Date` column\n",
    "- reduces data to relevant columns"
   ]
  },
  {
   "cell_type": "code",
   "execution_count": 4,
   "metadata": {
    "scrolled": true
   },
   "outputs": [
    {
     "data": {
      "text/html": [
       "<div>\n",
       "<style scoped>\n",
       "    .dataframe tbody tr th:only-of-type {\n",
       "        vertical-align: middle;\n",
       "    }\n",
       "\n",
       "    .dataframe tbody tr th {\n",
       "        vertical-align: top;\n",
       "    }\n",
       "\n",
       "    .dataframe thead th {\n",
       "        text-align: right;\n",
       "    }\n",
       "</style>\n",
       "<table border=\"1\" class=\"dataframe\">\n",
       "  <thead>\n",
       "    <tr style=\"text-align: right;\">\n",
       "      <th></th>\n",
       "      <th>source</th>\n",
       "      <th>Reference Number</th>\n",
       "      <th>Complaint Info Comments</th>\n",
       "      <th>Created Date</th>\n",
       "      <th>date</th>\n",
       "    </tr>\n",
       "  </thead>\n",
       "  <tbody>\n",
       "    <tr>\n",
       "      <th>0</th>\n",
       "      <td>2006-2015</td>\n",
       "      <td>1060979</td>\n",
       "      <td>wants to report possible fraud concerning the ...</td>\n",
       "      <td>2000-08-21 00:00:00</td>\n",
       "      <td>2000-08-21</td>\n",
       "    </tr>\n",
       "    <tr>\n",
       "      <th>1</th>\n",
       "      <td>2006-2015</td>\n",
       "      <td>7843976</td>\n",
       "      <td>Consumer reports that MoneyGram gave the wiret...</td>\n",
       "      <td>2006-03-15 00:00:00</td>\n",
       "      <td>2006-03-15</td>\n",
       "    </tr>\n",
       "    <tr>\n",
       "      <th>2</th>\n",
       "      <td>2006-2015</td>\n",
       "      <td>7845187</td>\n",
       "      <td>(Product Name: Green Card Lottery) This compan...</td>\n",
       "      <td>2006-03-15 00:00:00</td>\n",
       "      <td>2006-03-15</td>\n",
       "    </tr>\n",
       "    <tr>\n",
       "      <th>3</th>\n",
       "      <td>2006-2015</td>\n",
       "      <td>7852131</td>\n",
       "      <td>(Product Name: GREEN CARD LOTTERY) On March 11...</td>\n",
       "      <td>2006-03-16 00:00:00</td>\n",
       "      <td>2006-03-16</td>\n",
       "    </tr>\n",
       "    <tr>\n",
       "      <th>4</th>\n",
       "      <td>2006-2015</td>\n",
       "      <td>7857620</td>\n",
       "      <td>Consumer states that she paid $199 to USA FIS/...</td>\n",
       "      <td>2006-03-17 00:00:00</td>\n",
       "      <td>2006-03-17</td>\n",
       "    </tr>\n",
       "  </tbody>\n",
       "</table>\n",
       "</div>"
      ],
      "text/plain": [
       "      source Reference Number  \\\n",
       "0  2006-2015          1060979   \n",
       "1  2006-2015          7843976   \n",
       "2  2006-2015          7845187   \n",
       "3  2006-2015          7852131   \n",
       "4  2006-2015          7857620   \n",
       "\n",
       "                             Complaint Info Comments         Created Date  \\\n",
       "0  wants to report possible fraud concerning the ...  2000-08-21 00:00:00   \n",
       "1  Consumer reports that MoneyGram gave the wiret...  2006-03-15 00:00:00   \n",
       "2  (Product Name: Green Card Lottery) This compan...  2006-03-15 00:00:00   \n",
       "3  (Product Name: GREEN CARD LOTTERY) On March 11...  2006-03-16 00:00:00   \n",
       "4  Consumer states that she paid $199 to USA FIS/...  2006-03-17 00:00:00   \n",
       "\n",
       "        date  \n",
       "0 2000-08-21  \n",
       "1 2006-03-15  \n",
       "2 2006-03-15  \n",
       "3 2006-03-16  \n",
       "4 2006-03-17  "
      ]
     },
     "execution_count": 4,
     "metadata": {},
     "output_type": "execute_result"
    }
   ],
   "source": [
    "complaints_combined = (\n",
    "    pd.concat([\n",
    "        ftc_complaints_2006_2015.assign(source = \"2006-2015\"),\n",
    "        ftc_complaints_2015_2017.assign(source = \"2015-2017\"),\n",
    "        ftc_complaints_2018.assign(source = \"2018\"),\n",
    "    ], sort = False)\n",
    "    .reset_index(drop = True)\n",
    "    .rename(columns = {\n",
    "        \"  Created Date\": \"Created Date\",\n",
    "        \" Reference Number\": \"Reference Number\"\n",
    "    })\n",
    "    .assign(\n",
    "        date = lambda df: pd.to_datetime(\n",
    "            df[\"Created Date\"],\n",
    "            errors = \"coerce\"\n",
    "        )\n",
    "    )    \n",
    "    [[\n",
    "        \"source\",\n",
    "        \"Reference Number\",\n",
    "        \"Complaint Info Comments\",\n",
    "        \"Created Date\",\n",
    "        \"date\"\n",
    "    ]]\n",
    ")\n",
    "\n",
    "complaints_combined.head()"
   ]
  },
  {
   "cell_type": "code",
   "execution_count": 5,
   "metadata": {
    "scrolled": true
   },
   "outputs": [
    {
     "data": {
      "text/plain": [
       "13"
      ]
     },
     "execution_count": 5,
     "metadata": {},
     "output_type": "execute_result"
    }
   ],
   "source": [
    "complaints_combined[\"date\"].isnull().sum()"
   ]
  },
  {
   "cell_type": "markdown",
   "metadata": {},
   "source": [
    "This cell looks for rows where the `Created Date` cell is not a datetime:"
   ]
  },
  {
   "cell_type": "code",
   "execution_count": 6,
   "metadata": {},
   "outputs": [
    {
     "data": {
      "text/html": [
       "<div>\n",
       "<style scoped>\n",
       "    .dataframe tbody tr th:only-of-type {\n",
       "        vertical-align: middle;\n",
       "    }\n",
       "\n",
       "    .dataframe tbody tr th {\n",
       "        vertical-align: top;\n",
       "    }\n",
       "\n",
       "    .dataframe thead th {\n",
       "        text-align: right;\n",
       "    }\n",
       "</style>\n",
       "<table border=\"1\" class=\"dataframe\">\n",
       "  <thead>\n",
       "    <tr style=\"text-align: right;\">\n",
       "      <th></th>\n",
       "      <th>source</th>\n",
       "      <th>Reference Number</th>\n",
       "      <th>Complaint Info Comments</th>\n",
       "      <th>Created Date</th>\n",
       "      <th>date</th>\n",
       "    </tr>\n",
       "  </thead>\n",
       "  <tbody>\n",
       "    <tr>\n",
       "      <th>5223</th>\n",
       "      <td>2006-2015</td>\n",
       "      <td>NaN</td>\n",
       "      <td>NaN</td>\n",
       "      <td>NaN</td>\n",
       "      <td>NaT</td>\n",
       "    </tr>\n",
       "    <tr>\n",
       "      <th>5224</th>\n",
       "      <td>2006-2015</td>\n",
       "      <td>b(3):21(f)</td>\n",
       "      <td>b(3):21(f)</td>\n",
       "      <td>b(3):21(f)</td>\n",
       "      <td>NaT</td>\n",
       "    </tr>\n",
       "    <tr>\n",
       "      <th>5225</th>\n",
       "      <td>2006-2015</td>\n",
       "      <td>b(3); 21(f)</td>\n",
       "      <td>b(3); 21(f)</td>\n",
       "      <td>b(3); 21(f)</td>\n",
       "      <td>NaT</td>\n",
       "    </tr>\n",
       "    <tr>\n",
       "      <th>5226</th>\n",
       "      <td>2006-2015</td>\n",
       "      <td>b(3); 21(f)</td>\n",
       "      <td>b(3); 21(f)</td>\n",
       "      <td>b(3); 21(f)</td>\n",
       "      <td>NaT</td>\n",
       "    </tr>\n",
       "    <tr>\n",
       "      <th>5227</th>\n",
       "      <td>2006-2015</td>\n",
       "      <td>b(3); 21(f)</td>\n",
       "      <td>b(3); 21(f)</td>\n",
       "      <td>b(3); 21(f)</td>\n",
       "      <td>NaT</td>\n",
       "    </tr>\n",
       "    <tr>\n",
       "      <th>5228</th>\n",
       "      <td>2006-2015</td>\n",
       "      <td>b(3); 21(f)</td>\n",
       "      <td>b(3); 21(f)</td>\n",
       "      <td>b(3); 21(f)</td>\n",
       "      <td>NaT</td>\n",
       "    </tr>\n",
       "    <tr>\n",
       "      <th>5229</th>\n",
       "      <td>2006-2015</td>\n",
       "      <td>b(3); 21(f)</td>\n",
       "      <td>b(3); 21(f)</td>\n",
       "      <td>b(3); 21(f)</td>\n",
       "      <td>NaT</td>\n",
       "    </tr>\n",
       "    <tr>\n",
       "      <th>5230</th>\n",
       "      <td>2006-2015</td>\n",
       "      <td>NaN</td>\n",
       "      <td>NaN</td>\n",
       "      <td>NaN</td>\n",
       "      <td>NaT</td>\n",
       "    </tr>\n",
       "    <tr>\n",
       "      <th>5231</th>\n",
       "      <td>2006-2015</td>\n",
       "      <td>As a Consumer Sentinel Network member, you mus...</td>\n",
       "      <td>NaN</td>\n",
       "      <td>NaN</td>\n",
       "      <td>NaT</td>\n",
       "    </tr>\n",
       "    <tr>\n",
       "      <th>8171</th>\n",
       "      <td>2015-2017</td>\n",
       "      <td>NaN</td>\n",
       "      <td>NaN</td>\n",
       "      <td>NaN</td>\n",
       "      <td>NaT</td>\n",
       "    </tr>\n",
       "    <tr>\n",
       "      <th>8172</th>\n",
       "      <td>2015-2017</td>\n",
       "      <td>As a Consumer Sentinel Network member, you mus...</td>\n",
       "      <td>NaN</td>\n",
       "      <td>NaN</td>\n",
       "      <td>NaT</td>\n",
       "    </tr>\n",
       "    <tr>\n",
       "      <th>8539</th>\n",
       "      <td>2018</td>\n",
       "      <td>NaN</td>\n",
       "      <td>NaN</td>\n",
       "      <td>NaN</td>\n",
       "      <td>NaT</td>\n",
       "    </tr>\n",
       "    <tr>\n",
       "      <th>8540</th>\n",
       "      <td>2018</td>\n",
       "      <td>As a Consumer Sentinel Network member, you mus...</td>\n",
       "      <td>NaN</td>\n",
       "      <td>NaN</td>\n",
       "      <td>NaT</td>\n",
       "    </tr>\n",
       "  </tbody>\n",
       "</table>\n",
       "</div>"
      ],
      "text/plain": [
       "         source                                   Reference Number  \\\n",
       "5223  2006-2015                                                NaN   \n",
       "5224  2006-2015                                         b(3):21(f)   \n",
       "5225  2006-2015                                        b(3); 21(f)   \n",
       "5226  2006-2015                                        b(3); 21(f)   \n",
       "5227  2006-2015                                        b(3); 21(f)   \n",
       "5228  2006-2015                                        b(3); 21(f)   \n",
       "5229  2006-2015                                        b(3); 21(f)   \n",
       "5230  2006-2015                                                NaN   \n",
       "5231  2006-2015  As a Consumer Sentinel Network member, you mus...   \n",
       "8171  2015-2017                                                NaN   \n",
       "8172  2015-2017  As a Consumer Sentinel Network member, you mus...   \n",
       "8539       2018                                                NaN   \n",
       "8540       2018  As a Consumer Sentinel Network member, you mus...   \n",
       "\n",
       "     Complaint Info Comments Created Date date  \n",
       "5223                     NaN          NaN  NaT  \n",
       "5224              b(3):21(f)   b(3):21(f)  NaT  \n",
       "5225             b(3); 21(f)  b(3); 21(f)  NaT  \n",
       "5226             b(3); 21(f)  b(3); 21(f)  NaT  \n",
       "5227             b(3); 21(f)  b(3); 21(f)  NaT  \n",
       "5228             b(3); 21(f)  b(3); 21(f)  NaT  \n",
       "5229             b(3); 21(f)  b(3); 21(f)  NaT  \n",
       "5230                     NaN          NaN  NaT  \n",
       "5231                     NaN          NaN  NaT  \n",
       "8171                     NaN          NaN  NaT  \n",
       "8172                     NaN          NaN  NaT  \n",
       "8539                     NaN          NaN  NaT  \n",
       "8540                     NaN          NaN  NaT  "
      ]
     },
     "execution_count": 6,
     "metadata": {},
     "output_type": "execute_result"
    }
   ],
   "source": [
    "(\n",
    "    complaints_combined\n",
    "    .loc[lambda df: df[\"date\"].isnull()]\n",
    ")"
   ]
  },
  {
   "cell_type": "markdown",
   "metadata": {},
   "source": [
    "This cell creates dataframe that contains the monthly tally of complaints by time span covered within each Excel file in three different columns. "
   ]
  },
  {
   "cell_type": "code",
   "execution_count": 7,
   "metadata": {},
   "outputs": [
    {
     "data": {
      "text/html": [
       "<div>\n",
       "<style scoped>\n",
       "    .dataframe tbody tr th:only-of-type {\n",
       "        vertical-align: middle;\n",
       "    }\n",
       "\n",
       "    .dataframe tbody tr th {\n",
       "        vertical-align: top;\n",
       "    }\n",
       "\n",
       "    .dataframe thead th {\n",
       "        text-align: right;\n",
       "    }\n",
       "</style>\n",
       "<table border=\"1\" class=\"dataframe\">\n",
       "  <thead>\n",
       "    <tr style=\"text-align: right;\">\n",
       "      <th>source</th>\n",
       "      <th>2006-2015</th>\n",
       "      <th>2015-2017</th>\n",
       "      <th>2018</th>\n",
       "    </tr>\n",
       "    <tr>\n",
       "      <th>date</th>\n",
       "      <th></th>\n",
       "      <th></th>\n",
       "      <th></th>\n",
       "    </tr>\n",
       "  </thead>\n",
       "  <tbody>\n",
       "    <tr>\n",
       "      <th>2000-08-01</th>\n",
       "      <td>1.0</td>\n",
       "      <td>NaN</td>\n",
       "      <td>NaN</td>\n",
       "    </tr>\n",
       "    <tr>\n",
       "      <th>2006-03-01</th>\n",
       "      <td>7.0</td>\n",
       "      <td>NaN</td>\n",
       "      <td>NaN</td>\n",
       "    </tr>\n",
       "    <tr>\n",
       "      <th>2006-04-01</th>\n",
       "      <td>13.0</td>\n",
       "      <td>NaN</td>\n",
       "      <td>NaN</td>\n",
       "    </tr>\n",
       "    <tr>\n",
       "      <th>2006-05-01</th>\n",
       "      <td>20.0</td>\n",
       "      <td>NaN</td>\n",
       "      <td>NaN</td>\n",
       "    </tr>\n",
       "    <tr>\n",
       "      <th>2006-06-01</th>\n",
       "      <td>11.0</td>\n",
       "      <td>NaN</td>\n",
       "      <td>NaN</td>\n",
       "    </tr>\n",
       "  </tbody>\n",
       "</table>\n",
       "</div>"
      ],
      "text/plain": [
       "source      2006-2015  2015-2017  2018\n",
       "date                                  \n",
       "2000-08-01        1.0        NaN   NaN\n",
       "2006-03-01        7.0        NaN   NaN\n",
       "2006-04-01       13.0        NaN   NaN\n",
       "2006-05-01       20.0        NaN   NaN\n",
       "2006-06-01       11.0        NaN   NaN"
      ]
     },
     "execution_count": 7,
     "metadata": {},
     "output_type": "execute_result"
    }
   ],
   "source": [
    "monthly_complaints_by_source = (\n",
    "    complaints_combined\n",
    "    .loc[lambda df: df[\"date\"].notnull()]\n",
    "    .groupby([\n",
    "        pd.Grouper(\n",
    "            key = \"date\",\n",
    "            freq = \"MS\"\n",
    "        ),\n",
    "        \"source\"\n",
    "    ])\n",
    "    .size()\n",
    "    .unstack()\n",
    ")\n",
    "\n",
    "monthly_complaints_by_source.head()"
   ]
  },
  {
   "cell_type": "code",
   "execution_count": 8,
   "metadata": {},
   "outputs": [
    {
     "data": {
      "image/png": "[encoded data removed]",
      "text/plain": [
       "<Figure size 720x432 with 1 Axes>"
      ]
     },
     "metadata": {},
     "output_type": "display_data"
    }
   ],
   "source": [
    "(\n",
    "    monthly_complaints_by_source\n",
    "    .plot(figsize = (10, 6))\n",
    ");"
   ]
  },
  {
   "cell_type": "code",
   "execution_count": 9,
   "metadata": {},
   "outputs": [
    {
     "data": {
      "text/html": [
       "<div>\n",
       "<style scoped>\n",
       "    .dataframe tbody tr th:only-of-type {\n",
       "        vertical-align: middle;\n",
       "    }\n",
       "\n",
       "    .dataframe tbody tr th {\n",
       "        vertical-align: top;\n",
       "    }\n",
       "\n",
       "    .dataframe thead th {\n",
       "        text-align: right;\n",
       "    }\n",
       "</style>\n",
       "<table border=\"1\" class=\"dataframe\">\n",
       "  <thead>\n",
       "    <tr style=\"text-align: right;\">\n",
       "      <th>source</th>\n",
       "      <th>2006-2015</th>\n",
       "      <th>2015-2017</th>\n",
       "      <th>2018</th>\n",
       "    </tr>\n",
       "    <tr>\n",
       "      <th>date</th>\n",
       "      <th></th>\n",
       "      <th></th>\n",
       "      <th></th>\n",
       "    </tr>\n",
       "  </thead>\n",
       "  <tbody>\n",
       "    <tr>\n",
       "      <th>2015-07-01</th>\n",
       "      <td>38.0</td>\n",
       "      <td>102.0</td>\n",
       "      <td>NaN</td>\n",
       "    </tr>\n",
       "  </tbody>\n",
       "</table>\n",
       "</div>"
      ],
      "text/plain": [
       "source      2006-2015  2015-2017  2018\n",
       "date                                  \n",
       "2015-07-01       38.0      102.0   NaN"
      ]
     },
     "execution_count": 9,
     "metadata": {},
     "output_type": "execute_result"
    }
   ],
   "source": [
    "(    \n",
    "    monthly_complaints_by_source\n",
    "    .loc[lambda df: df.notnull().sum(axis = 1) > 1]\n",
    ")"
   ]
  },
  {
   "cell_type": "markdown",
   "metadata": {},
   "source": [
    "This cell summarizes counts of complaints annually using the three columns created in the previous dataframe and selecting the value of each row that contains the highest number to avoid double counting complaints that may appear multiple times across spreadsheets. "
   ]
  },
  {
   "cell_type": "code",
   "execution_count": 10,
   "metadata": {},
   "outputs": [
    {
     "data": {
      "text/plain": [
       "year\n",
       "2012     746.0\n",
       "2013     910.0\n",
       "2014    1194.0\n",
       "2015    1005.0\n",
       "2016    1165.0\n",
       "2017    1310.0\n",
       "Name: count, dtype: float64"
      ]
     },
     "execution_count": 10,
     "metadata": {},
     "output_type": "execute_result"
    }
   ],
   "source": [
    "annual_complaint_counts = (\n",
    "    monthly_complaints_by_source\n",
    "    .assign(\n",
    "        count = lambda df: df.max(axis = 1)\n",
    "    )\n",
    "    .loc[\"2012\":\"2017\"]\n",
    "    .reset_index()\n",
    "    .assign(\n",
    "        year = lambda df: df[\"date\"].dt.year\n",
    "    )\n",
    "    .groupby(\"year\")\n",
    "    [\"count\"]\n",
    "    .sum()\n",
    ")\n",
    "\n",
    "annual_complaint_counts"
   ]
  },
  {
   "cell_type": "code",
   "execution_count": 11,
   "metadata": {},
   "outputs": [
    {
     "data": {
      "text/plain": [
       "1055.0"
      ]
     },
     "execution_count": 11,
     "metadata": {},
     "output_type": "execute_result"
    }
   ],
   "source": [
    "annual_complaint_counts.mean()"
   ]
  },
  {
   "cell_type": "code",
   "execution_count": 12,
   "metadata": {},
   "outputs": [
    {
     "data": {
      "image/png": "[encoded data removed]",
      "text/plain": [
       "<Figure size 432x288 with 1 Axes>"
      ]
     },
     "metadata": {},
     "output_type": "display_data"
    }
   ],
   "source": [
    "annual_complaint_counts.plot(kind = \"bar\", color = \"teal\", width = 0.8);"
   ]
  },
  {
   "cell_type": "code",
   "execution_count": 13,
   "metadata": {},
   "outputs": [
    {
     "data": {
      "text/plain": [
       "(b)(6)    3305\n",
       "Name: Reference Number, dtype: int64"
      ]
     },
     "execution_count": 13,
     "metadata": {},
     "output_type": "execute_result"
    }
   ],
   "source": [
    "(\n",
    "    complaints_combined\n",
    "    .loc[lambda df: df[\"date\"].notnull()]\n",
    "    [\"Reference Number\"]\n",
    "    .value_counts()\n",
    "    .loc[lambda x: x > 1]\n",
    ")"
   ]
  },
  {
   "cell_type": "markdown",
   "metadata": {},
   "source": [
    "### Count the words used in the complaints\n",
    "\n",
    "This part of the notebook creates a list of words and data affiliated with each word (how many comments used it, how often it was used, and what different iterations of it were used)."
   ]
  },
  {
   "cell_type": "markdown",
   "metadata": {},
   "source": [
    "This cell checkes whether the `consumer_compls_redacted_2015_2017.xls` file contains any comments that could be useful for a word count analysis."
   ]
  },
  {
   "cell_type": "code",
   "execution_count": 14,
   "metadata": {},
   "outputs": [
    {
     "data": {
      "text/plain": [
       "(b)(6)                                                2951\n",
       "Refund or Exchange Issues                                8\n",
       "Possible unauthorized practice of immigration law.       7\n",
       "Contract Issues                                          7\n",
       "Complaint Type:  - Customer Service Issues               5\n",
       "Name: Complaint Info Comments, dtype: int64"
      ]
     },
     "execution_count": 14,
     "metadata": {},
     "output_type": "execute_result"
    }
   ],
   "source": [
    "(\n",
    "    complaints_combined\n",
    "    ['Complaint Info Comments']\n",
    "    .value_counts()\n",
    "    .head()\n",
    ")"
   ]
  },
  {
   "cell_type": "markdown",
   "metadata": {},
   "source": [
    "The coming cells filter out cells that are either contain no comments or redacted information only. "
   ]
  },
  {
   "cell_type": "code",
   "execution_count": 15,
   "metadata": {},
   "outputs": [],
   "source": [
    "nlp = spacy.load('en')"
   ]
  },
  {
   "cell_type": "code",
   "execution_count": 16,
   "metadata": {},
   "outputs": [],
   "source": [
    "non_redacted_complaints = (\n",
    "    complaints_combined\n",
    "    .loc[lambda df: df[\"Complaint Info Comments\"] != \"(b)(6)\"]\n",
    "    .loc[lambda df: df[\"Complaint Info Comments\"].notnull()]\n",
    ")"
   ]
  },
  {
   "cell_type": "code",
   "execution_count": 17,
   "metadata": {},
   "outputs": [
    {
     "data": {
      "text/plain": [
       "(b)(6)         348\n",
       "b(3); 21(f)      5\n",
       "47081165         1\n",
       "45679060         1\n",
       "50880718         1\n",
       "Name: Reference Number, dtype: int64"
      ]
     },
     "execution_count": 17,
     "metadata": {},
     "output_type": "execute_result"
    }
   ],
   "source": [
    "non_redacted_complaints[\"Reference Number\"].value_counts().head()"
   ]
  },
  {
   "cell_type": "code",
   "execution_count": 18,
   "metadata": {},
   "outputs": [
    {
     "data": {
      "text/html": [
       "<div>\n",
       "<style scoped>\n",
       "    .dataframe tbody tr th:only-of-type {\n",
       "        vertical-align: middle;\n",
       "    }\n",
       "\n",
       "    .dataframe tbody tr th {\n",
       "        vertical-align: top;\n",
       "    }\n",
       "\n",
       "    .dataframe thead th {\n",
       "        text-align: right;\n",
       "    }\n",
       "</style>\n",
       "<table border=\"1\" class=\"dataframe\">\n",
       "  <thead>\n",
       "    <tr style=\"text-align: right;\">\n",
       "      <th></th>\n",
       "      <th>source</th>\n",
       "      <th>Reference Number</th>\n",
       "      <th>Complaint Info Comments</th>\n",
       "      <th>Created Date</th>\n",
       "      <th>date</th>\n",
       "    </tr>\n",
       "  </thead>\n",
       "  <tbody>\n",
       "    <tr>\n",
       "      <th>8173</th>\n",
       "      <td>2018</td>\n",
       "      <td>(b)(6)</td>\n",
       "      <td>(b)(6) apartment (b)(6) jersey city nj is curr...</td>\n",
       "      <td>01/03/2018</td>\n",
       "      <td>2018-01-03</td>\n",
       "    </tr>\n",
       "    <tr>\n",
       "      <th>8174</th>\n",
       "      <td>2018</td>\n",
       "      <td>(b)(6)</td>\n",
       "      <td>i want to inform case get marriage fake, his n...</td>\n",
       "      <td>01/03/2018</td>\n",
       "      <td>2018-01-03</td>\n",
       "    </tr>\n",
       "    <tr>\n",
       "      <th>8175</th>\n",
       "      <td>2018</td>\n",
       "      <td>(b)(6)</td>\n",
       "      <td>i want to make sure that they won't use my inf...</td>\n",
       "      <td>01/04/2018</td>\n",
       "      <td>2018-01-04</td>\n",
       "    </tr>\n",
       "    <tr>\n",
       "      <th>8176</th>\n",
       "      <td>2018</td>\n",
       "      <td>(b)(6)</td>\n",
       "      <td>I'm (b)(6) a graduate student at (b)(6). I'm c...</td>\n",
       "      <td>01/04/2018</td>\n",
       "      <td>2018-01-04</td>\n",
       "    </tr>\n",
       "    <tr>\n",
       "      <th>8177</th>\n",
       "      <td>2018</td>\n",
       "      <td>(b)(6)</td>\n",
       "      <td>A person called me and informed me that my ali...</td>\n",
       "      <td>01/05/2018</td>\n",
       "      <td>2018-01-05</td>\n",
       "    </tr>\n",
       "  </tbody>\n",
       "</table>\n",
       "</div>"
      ],
      "text/plain": [
       "     source Reference Number  \\\n",
       "8173   2018           (b)(6)   \n",
       "8174   2018           (b)(6)   \n",
       "8175   2018           (b)(6)   \n",
       "8176   2018           (b)(6)   \n",
       "8177   2018           (b)(6)   \n",
       "\n",
       "                                Complaint Info Comments Created Date  \\\n",
       "8173  (b)(6) apartment (b)(6) jersey city nj is curr...   01/03/2018   \n",
       "8174  i want to inform case get marriage fake, his n...   01/03/2018   \n",
       "8175  i want to make sure that they won't use my inf...   01/04/2018   \n",
       "8176  I'm (b)(6) a graduate student at (b)(6). I'm c...   01/04/2018   \n",
       "8177  A person called me and informed me that my ali...   01/05/2018   \n",
       "\n",
       "           date  \n",
       "8173 2018-01-03  \n",
       "8174 2018-01-03  \n",
       "8175 2018-01-04  \n",
       "8176 2018-01-04  \n",
       "8177 2018-01-05  "
      ]
     },
     "execution_count": 18,
     "metadata": {},
     "output_type": "execute_result"
    }
   ],
   "source": [
    "(\n",
    "    non_redacted_complaints\n",
    "    .loc[lambda df: df[\"Reference Number\"] == \"(b)(6)\"]\n",
    "    .head()\n",
    ")"
   ]
  },
  {
   "cell_type": "markdown",
   "metadata": {},
   "source": [
    "The cells below create a data frame, `word_rows`, from every complaint comment. Each row contains the tokenized word, the word's lemmatized version, and a complaint index. "
   ]
  },
  {
   "cell_type": "code",
   "execution_count": 19,
   "metadata": {},
   "outputs": [],
   "source": [
    "import re\n",
    "whitespace_pat = re.compile(r\"[\\s•]+\")"
   ]
  },
  {
   "cell_type": "code",
   "execution_count": 20,
   "metadata": {},
   "outputs": [
    {
     "name": "stdout",
     "output_type": "stream",
     "text": [
      "CPU times: user 4min 27s, sys: 41.8 s, total: 5min 9s\n",
      "Wall time: 3min 15s\n"
     ]
    }
   ],
   "source": [
    "%%time\n",
    "word_rows = []\n",
    "for i, row in non_redacted_complaints.iterrows():\n",
    "    clean_comment = re.sub(whitespace_pat, \" \", row[\"Complaint Info Comments\"])\n",
    "    for token in nlp(clean_comment):\n",
    "        word_rows.append({\n",
    "            \"word\": token.text.lower(),\n",
    "            \"lemma\": token.lemma_,\n",
    "            \"complaint_index\": i\n",
    "        })"
   ]
  },
  {
   "cell_type": "code",
   "execution_count": 21,
   "metadata": {},
   "outputs": [
    {
     "data": {
      "text/html": [
       "<div>\n",
       "<style scoped>\n",
       "    .dataframe tbody tr th:only-of-type {\n",
       "        vertical-align: middle;\n",
       "    }\n",
       "\n",
       "    .dataframe tbody tr th {\n",
       "        vertical-align: top;\n",
       "    }\n",
       "\n",
       "    .dataframe thead th {\n",
       "        text-align: right;\n",
       "    }\n",
       "</style>\n",
       "<table border=\"1\" class=\"dataframe\">\n",
       "  <thead>\n",
       "    <tr style=\"text-align: right;\">\n",
       "      <th></th>\n",
       "      <th>complaint_index</th>\n",
       "      <th>lemma</th>\n",
       "      <th>word</th>\n",
       "    </tr>\n",
       "  </thead>\n",
       "  <tbody>\n",
       "    <tr>\n",
       "      <th>0</th>\n",
       "      <td>0</td>\n",
       "      <td>want</td>\n",
       "      <td>wants</td>\n",
       "    </tr>\n",
       "    <tr>\n",
       "      <th>1</th>\n",
       "      <td>0</td>\n",
       "      <td>to</td>\n",
       "      <td>to</td>\n",
       "    </tr>\n",
       "    <tr>\n",
       "      <th>2</th>\n",
       "      <td>0</td>\n",
       "      <td>report</td>\n",
       "      <td>report</td>\n",
       "    </tr>\n",
       "    <tr>\n",
       "      <th>3</th>\n",
       "      <td>0</td>\n",
       "      <td>possible</td>\n",
       "      <td>possible</td>\n",
       "    </tr>\n",
       "    <tr>\n",
       "      <th>4</th>\n",
       "      <td>0</td>\n",
       "      <td>fraud</td>\n",
       "      <td>fraud</td>\n",
       "    </tr>\n",
       "  </tbody>\n",
       "</table>\n",
       "</div>"
      ],
      "text/plain": [
       "   complaint_index     lemma      word\n",
       "0                0      want     wants\n",
       "1                0        to        to\n",
       "2                0    report    report\n",
       "3                0  possible  possible\n",
       "4                0     fraud     fraud"
      ]
     },
     "execution_count": 21,
     "metadata": {},
     "output_type": "execute_result"
    }
   ],
   "source": [
    "words_dataframe = pd.DataFrame(word_rows)\n",
    "words_dataframe.head()"
   ]
  },
  {
   "cell_type": "markdown",
   "metadata": {},
   "source": [
    "Based on the `word_rows` data frame, the next cell finds the total word count, the count for the number of comments using the word, and what iterations of the word that were used:"
   ]
  },
  {
   "cell_type": "code",
   "execution_count": 22,
   "metadata": {},
   "outputs": [
    {
     "data": {
      "text/html": [
       "<div>\n",
       "<style scoped>\n",
       "    .dataframe tbody tr th:only-of-type {\n",
       "        vertical-align: middle;\n",
       "    }\n",
       "\n",
       "    .dataframe tbody tr th {\n",
       "        vertical-align: top;\n",
       "    }\n",
       "\n",
       "    .dataframe thead th {\n",
       "        text-align: right;\n",
       "    }\n",
       "</style>\n",
       "<table border=\"1\" class=\"dataframe\">\n",
       "  <thead>\n",
       "    <tr style=\"text-align: right;\">\n",
       "      <th></th>\n",
       "      <th>total_count</th>\n",
       "      <th>unique_comments</th>\n",
       "      <th>words</th>\n",
       "    </tr>\n",
       "    <tr>\n",
       "      <th>lemma</th>\n",
       "      <th></th>\n",
       "      <th></th>\n",
       "      <th></th>\n",
       "    </tr>\n",
       "  </thead>\n",
       "  <tbody>\n",
       "    <tr>\n",
       "      <th></th>\n",
       "      <td>58</td>\n",
       "      <td>58</td>\n",
       "      <td></td>\n",
       "    </tr>\n",
       "    <tr>\n",
       "      <th>!</th>\n",
       "      <td>1054</td>\n",
       "      <td>476</td>\n",
       "      <td>!</td>\n",
       "    </tr>\n",
       "    <tr>\n",
       "      <th>\"</th>\n",
       "      <td>2096</td>\n",
       "      <td>506</td>\n",
       "      <td>\" | “ | ”</td>\n",
       "    </tr>\n",
       "    <tr>\n",
       "      <th>\"-</th>\n",
       "      <td>18</td>\n",
       "      <td>7</td>\n",
       "      <td>\"-</td>\n",
       "    </tr>\n",
       "    <tr>\n",
       "      <th>\"all</th>\n",
       "      <td>1</td>\n",
       "      <td>1</td>\n",
       "      <td>\"all</td>\n",
       "    </tr>\n",
       "  </tbody>\n",
       "</table>\n",
       "</div>"
      ],
      "text/plain": [
       "       total_count  unique_comments      words\n",
       "lemma                                         \n",
       "                58               58           \n",
       "!             1054              476          !\n",
       "\"             2096              506  \" | “ | ”\n",
       "\"-              18                7         \"-\n",
       "\"all             1                1       \"all"
      ]
     },
     "execution_count": 22,
     "metadata": {},
     "output_type": "execute_result"
    }
   ],
   "source": [
    "lemma_counts = (\n",
    "    words_dataframe\n",
    "    .groupby(\"lemma\")\n",
    "    .pipe(lambda grp: pd.DataFrame({\n",
    "        \"total_count\": grp.size(),\n",
    "        \"unique_comments\": grp[\"complaint_index\"].nunique(),\n",
    "        \"words\": grp[\"word\"].apply(lambda x: \" | \".join(sorted(set(x))))\n",
    "    }))\n",
    ")\n",
    "\n",
    "lemma_counts.head()"
   ]
  },
  {
   "cell_type": "code",
   "execution_count": 23,
   "metadata": {},
   "outputs": [
    {
     "data": {
      "text/html": [
       "<div>\n",
       "<style scoped>\n",
       "    .dataframe tbody tr th:only-of-type {\n",
       "        vertical-align: middle;\n",
       "    }\n",
       "\n",
       "    .dataframe tbody tr th {\n",
       "        vertical-align: top;\n",
       "    }\n",
       "\n",
       "    .dataframe thead th {\n",
       "        text-align: right;\n",
       "    }\n",
       "</style>\n",
       "<table border=\"1\" class=\"dataframe\">\n",
       "  <thead>\n",
       "    <tr style=\"text-align: right;\">\n",
       "      <th></th>\n",
       "      <th>total_count</th>\n",
       "      <th>unique_comments</th>\n",
       "      <th>words</th>\n",
       "    </tr>\n",
       "    <tr>\n",
       "      <th>lemma</th>\n",
       "      <th></th>\n",
       "      <th></th>\n",
       "      <th></th>\n",
       "    </tr>\n",
       "  </thead>\n",
       "  <tbody>\n",
       "    <tr>\n",
       "      <th>.</th>\n",
       "      <td>38643</td>\n",
       "      <td>5213</td>\n",
       "      <td>.</td>\n",
       "    </tr>\n",
       "    <tr>\n",
       "      <th>-PRON-</th>\n",
       "      <td>90532</td>\n",
       "      <td>5098</td>\n",
       "      <td>'s | em | he | her | hers | herself | him | hi...</td>\n",
       "    </tr>\n",
       "    <tr>\n",
       "      <th>be</th>\n",
       "      <td>31999</td>\n",
       "      <td>4919</td>\n",
       "      <td>'m | 're | 's | am | are | be | been | being |...</td>\n",
       "    </tr>\n",
       "    <tr>\n",
       "      <th>to</th>\n",
       "      <td>29018</td>\n",
       "      <td>4840</td>\n",
       "      <td>na | to</td>\n",
       "    </tr>\n",
       "    <tr>\n",
       "      <th>the</th>\n",
       "      <td>35591</td>\n",
       "      <td>4566</td>\n",
       "      <td>the</td>\n",
       "    </tr>\n",
       "    <tr>\n",
       "      <th>a</th>\n",
       "      <td>16265</td>\n",
       "      <td>4465</td>\n",
       "      <td>a</td>\n",
       "    </tr>\n",
       "    <tr>\n",
       "      <th>and</th>\n",
       "      <td>23386</td>\n",
       "      <td>4443</td>\n",
       "      <td>and | ands</td>\n",
       "    </tr>\n",
       "    <tr>\n",
       "      <th>for</th>\n",
       "      <td>12014</td>\n",
       "      <td>3888</td>\n",
       "      <td>for</td>\n",
       "    </tr>\n",
       "    <tr>\n",
       "      <th>that</th>\n",
       "      <td>12904</td>\n",
       "      <td>3701</td>\n",
       "      <td>that | thats</td>\n",
       "    </tr>\n",
       "    <tr>\n",
       "      <th>,</th>\n",
       "      <td>21564</td>\n",
       "      <td>3656</td>\n",
       "      <td>,</td>\n",
       "    </tr>\n",
       "    <tr>\n",
       "      <th>have</th>\n",
       "      <td>10314</td>\n",
       "      <td>3520</td>\n",
       "      <td>'ve | had | has | have | having | ve | ’ve</td>\n",
       "    </tr>\n",
       "    <tr>\n",
       "      <th>of</th>\n",
       "      <td>12330</td>\n",
       "      <td>3450</td>\n",
       "      <td>of</td>\n",
       "    </tr>\n",
       "    <tr>\n",
       "      <th>not</th>\n",
       "      <td>9014</td>\n",
       "      <td>3339</td>\n",
       "      <td>n't | not | nt | n’t</td>\n",
       "    </tr>\n",
       "    <tr>\n",
       "      <th>in</th>\n",
       "      <td>10269</td>\n",
       "      <td>3187</td>\n",
       "      <td>in | ins</td>\n",
       "    </tr>\n",
       "    <tr>\n",
       "      <th>from</th>\n",
       "      <td>5371</td>\n",
       "      <td>2822</td>\n",
       "      <td>from | froms</td>\n",
       "    </tr>\n",
       "    <tr>\n",
       "      <th>this</th>\n",
       "      <td>6865</td>\n",
       "      <td>2793</td>\n",
       "      <td>this</td>\n",
       "    </tr>\n",
       "    <tr>\n",
       "      <th>do</th>\n",
       "      <td>6138</td>\n",
       "      <td>2739</td>\n",
       "      <td>did | do | does | doing | done | dos</td>\n",
       "    </tr>\n",
       "    <tr>\n",
       "      <th>on</th>\n",
       "      <td>6031</td>\n",
       "      <td>2623</td>\n",
       "      <td>on</td>\n",
       "    </tr>\n",
       "    <tr>\n",
       "      <th>with</th>\n",
       "      <td>5775</td>\n",
       "      <td>2564</td>\n",
       "      <td>with | withing</td>\n",
       "    </tr>\n",
       "    <tr>\n",
       "      <th>$</th>\n",
       "      <td>5611</td>\n",
       "      <td>2507</td>\n",
       "      <td>$</td>\n",
       "    </tr>\n",
       "    <tr>\n",
       "      <th>call</th>\n",
       "      <td>5784</td>\n",
       "      <td>2487</td>\n",
       "      <td>call | called | calling | calls</td>\n",
       "    </tr>\n",
       "    <tr>\n",
       "      <th>pay</th>\n",
       "      <td>4693</td>\n",
       "      <td>2482</td>\n",
       "      <td>paid | pay | payed | payes | paying | pays</td>\n",
       "    </tr>\n",
       "    <tr>\n",
       "      <th>:</th>\n",
       "      <td>6106</td>\n",
       "      <td>2430</td>\n",
       "      <td>:</td>\n",
       "    </tr>\n",
       "    <tr>\n",
       "      <th>an</th>\n",
       "      <td>3498</td>\n",
       "      <td>2233</td>\n",
       "      <td>an | ans</td>\n",
       "    </tr>\n",
       "    <tr>\n",
       "      <th>)</th>\n",
       "      <td>8002</td>\n",
       "      <td>2199</td>\n",
       "      <td>)</td>\n",
       "    </tr>\n",
       "    <tr>\n",
       "      <th>immigration</th>\n",
       "      <td>4230</td>\n",
       "      <td>2172</td>\n",
       "      <td>immigration | immigrations</td>\n",
       "    </tr>\n",
       "    <tr>\n",
       "      <th>card</th>\n",
       "      <td>4574</td>\n",
       "      <td>2059</td>\n",
       "      <td>card | cards</td>\n",
       "    </tr>\n",
       "    <tr>\n",
       "      <th>get</th>\n",
       "      <td>3651</td>\n",
       "      <td>2044</td>\n",
       "      <td>get | geting | gets | getting | got | gotten</td>\n",
       "    </tr>\n",
       "    <tr>\n",
       "      <th>-</th>\n",
       "      <td>5316</td>\n",
       "      <td>2021</td>\n",
       "      <td>-</td>\n",
       "    </tr>\n",
       "    <tr>\n",
       "      <th>as</th>\n",
       "      <td>3905</td>\n",
       "      <td>1872</td>\n",
       "      <td>as</td>\n",
       "    </tr>\n",
       "  </tbody>\n",
       "</table>\n",
       "</div>"
      ],
      "text/plain": [
       "             total_count  unique_comments  \\\n",
       "lemma                                       \n",
       ".                  38643             5213   \n",
       "-PRON-             90532             5098   \n",
       "be                 31999             4919   \n",
       "to                 29018             4840   \n",
       "the                35591             4566   \n",
       "a                  16265             4465   \n",
       "and                23386             4443   \n",
       "for                12014             3888   \n",
       "that               12904             3701   \n",
       ",                  21564             3656   \n",
       "have               10314             3520   \n",
       "of                 12330             3450   \n",
       "not                 9014             3339   \n",
       "in                 10269             3187   \n",
       "from                5371             2822   \n",
       "this                6865             2793   \n",
       "do                  6138             2739   \n",
       "on                  6031             2623   \n",
       "with                5775             2564   \n",
       "$                   5611             2507   \n",
       "call                5784             2487   \n",
       "pay                 4693             2482   \n",
       ":                   6106             2430   \n",
       "an                  3498             2233   \n",
       ")                   8002             2199   \n",
       "immigration         4230             2172   \n",
       "card                4574             2059   \n",
       "get                 3651             2044   \n",
       "-                   5316             2021   \n",
       "as                  3905             1872   \n",
       "\n",
       "                                                         words  \n",
       "lemma                                                           \n",
       ".                                                            .  \n",
       "-PRON-       's | em | he | her | hers | herself | him | hi...  \n",
       "be           'm | 're | 's | am | are | be | been | being |...  \n",
       "to                                                     na | to  \n",
       "the                                                        the  \n",
       "a                                                            a  \n",
       "and                                                 and | ands  \n",
       "for                                                        for  \n",
       "that                                              that | thats  \n",
       ",                                                            ,  \n",
       "have                've | had | has | have | having | ve | ’ve  \n",
       "of                                                          of  \n",
       "not                                       n't | not | nt | n’t  \n",
       "in                                                    in | ins  \n",
       "from                                              from | froms  \n",
       "this                                                      this  \n",
       "do                        did | do | does | doing | done | dos  \n",
       "on                                                          on  \n",
       "with                                            with | withing  \n",
       "$                                                            $  \n",
       "call                           call | called | calling | calls  \n",
       "pay                 paid | pay | payed | payes | paying | pays  \n",
       ":                                                            :  \n",
       "an                                                    an | ans  \n",
       ")                                                            )  \n",
       "immigration                         immigration | immigrations  \n",
       "card                                              card | cards  \n",
       "get               get | geting | gets | getting | got | gotten  \n",
       "-                                                            -  \n",
       "as                                                          as  "
      ]
     },
     "execution_count": 23,
     "metadata": {},
     "output_type": "execute_result"
    }
   ],
   "source": [
    "(\n",
    "    lemma_counts\n",
    "    .sort_values(\"unique_comments\", ascending = False)\n",
    "    .head(30)\n",
    ")"
   ]
  },
  {
   "cell_type": "code",
   "execution_count": 24,
   "metadata": {},
   "outputs": [],
   "source": [
    "(    \n",
    "    lemma_counts\n",
    "    .to_csv(\n",
    "        \"../output/word_counts.csv\",\n",
    "    )\n",
    ")"
   ]
  },
  {
   "cell_type": "markdown",
   "metadata": {},
   "source": [
    "---\n",
    "\n",
    "---\n",
    "\n",
    "---"
   ]
  }
 ],
 "metadata": {
  "kernelspec": {
   "display_name": "Python 3",
   "language": "python",
   "name": "python3"
  },
  "language_info": {
   "codemirror_mode": {
    "name": "ipython",
    "version": 3
   },
   "file_extension": ".py",
   "mimetype": "text/x-python",
   "name": "python",
   "nbconvert_exporter": "python",
   "pygments_lexer": "ipython3",
   "version": "3.6.5"
  }
 },
 "nbformat": 4,
 "nbformat_minor": 2
}
